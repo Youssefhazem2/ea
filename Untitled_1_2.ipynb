{
 "cells": [
  {
   "cell_type": "code",
   "execution_count": 1,
   "id": "bc7d3b27-c415-4334-bcf6-0fe1f964e6fe",
   "metadata": {},
   "outputs": [],
   "source": [
    "import numpy as np\n",
    "import pandas as pd\n",
    "from sklearn.datasets import load_digits\n",
    "from sklearn.model_selection import train_test_split\n",
    "from sklearn.preprocessing import MinMaxScaler\n",
    "import random\n",
    "from sklearn.metrics import accuracy_score\n",
    "from multiprocessing import Pool"
   ]
  },
  {
   "cell_type": "code",
   "execution_count": 2,
   "id": "8d4a52c6",
   "metadata": {},
   "outputs": [
    {
     "name": "stdout",
     "output_type": "stream",
     "text": [
      "(2006, 12)\n"
     ]
    }
   ],
   "source": [
    "df = pd.read_csv('bodyPerformance.csv')\n",
    "# digits = load_digits()\n",
    "# data = digits.data\n",
    "# target = digits.target\n",
    "\n",
    "category_mapping = {'A': 1, 'B': 2, 'C': 3,'D':3}\n",
    "\n",
    "# Map categories to their numerical representation\n",
    "df['class'] = df['class'].map(category_mapping)\n",
    "category_mapping1 = {'M': 0, 'F': 1 }\n",
    "\n",
    "# Map categories to their numerical representation\n",
    "df['gender'] = df['gender'].map(category_mapping1)\n",
    "print(df.shape)"
   ]
  },
  {
   "cell_type": "code",
   "execution_count": 3,
   "id": "f2d0268a",
   "metadata": {},
   "outputs": [],
   "source": [
    "x = df.drop([\"class\"],axis=1)\n",
    "y = df[\"class\"].values.reshape(df.shape[0],1)\n",
    "\n",
    "scalerx = MinMaxScaler()\n",
    "scalery = MinMaxScaler()\n",
    "x = scalerx.fit_transform(x)\n",
    "y =scalery.fit_transform(y)\n",
    "\n",
    "x_train,x_test,y_train,y_test = train_test_split(x,y,test_size = 0.1,random_state=42)\n"
   ]
  },
  {
   "cell_type": "code",
   "execution_count": 4,
   "id": "78f0294d-db93-4819-ba3e-ce9ee31f2aca",
   "metadata": {},
   "outputs": [],
   "source": [
    "def relu(x):\n",
    "    return np.maximum(0, x)\n",
    "\n",
    "def softmax(x):\n",
    "    e_x = np.exp(x - np.max(x))\n",
    "    return e_x / e_x.sum()\n",
    "    \n",
    "def sigmoid(Z):\n",
    "    A = 1/(1+np.exp(-Z))\n",
    "    return A"
   ]
  },
  {
   "cell_type": "code",
   "execution_count": 5,
   "id": "ea50e8af-1179-4467-8b2e-4eecb23b5941",
   "metadata": {},
   "outputs": [],
   "source": [
    "class Layer:\n",
    "    def __init__(self, input_units, output_units, activation_function=None):\n",
    "#         random_array = np.random.uniform(low, high, size=(input_units, output_units))\n",
    "        self.W = np.random.randn(input_units, output_units)\n",
    "        self.b = np.random.randn(output_units)\n",
    "        self.activation_function = activation_function\n",
    "\n",
    "    def forward(self, inputs):\n",
    "        linear_output = np.dot(inputs, self.W) + self.b\n",
    "        if self.activation_function is None:\n",
    "            return linear_output\n",
    "        else:\n",
    "            return self.activation_function(linear_output)\n",
    "\n",
    "class NeuralNetwork:\n",
    "    def __init__(self):\n",
    "        self.layers = []\n",
    "        self.model_weights = []\n",
    "        self.model_biases = []\n",
    "        self.accuracy = None\n",
    "\n",
    "    def add(self, layer):\n",
    "        self.layers.append(layer)\n",
    "        self.model_weights.append(layer.W)\n",
    "        self.model_biases.append(layer.b)\n",
    "        \n",
    "    def predict_prob(self, input_data):\n",
    "        results = []\n",
    "        for data in input_data:\n",
    "            output = data\n",
    "            for layer in self.layers:\n",
    "                output = layer.forward(output)\n",
    "            results.append(output)\n",
    "        return results \n",
    "\n",
    "    def predict(self, input_data):\n",
    "        prob_predictions = self.predict_prob(input_data)\n",
    "        return [np.argmax(prediction) for prediction in prob_predictions]\n",
    "\n",
    "\n",
    "    def print_architecture(self):\n",
    "        print(\"Model Architecture:\")\n",
    "        for i, layer in enumerate(self.layers):\n",
    "            activation = layer.activation_function.__name__ if layer.activation_function else \"None\"\n",
    "            print(f\"Layer {i+1}: Units={layer.W.shape[1]}, Activation={activation}\")\n",
    "\n",
    "    def print_weights(self):\n",
    "        print(\"Model Weights:\")\n",
    "        for i, w in enumerate(self.model_weights):\n",
    "            print(f\"Layer {i+1} shape : {w.shape} weights:\")\n",
    "            print(w)\n",
    "            \n",
    "    def set_accuracy(self, input_data, true_labels):\n",
    "        predicted_labels = self.predict(input_data)\n",
    "        correct_predictions = np.sum(1 for pred, true in zip(predicted_labels, true_labels) if pred == true)\n",
    "        total_predictions = len(true_labels)\n",
    "        accuracy_percentage = (correct_predictions / total_predictions) * 100\n",
    "        self.accuracy = accuracy_percentage\n",
    "        # self.accuracy= accuracy_score(true_labels,predicted_labels)*100\n",
    "    def get_accuracy(self):\n",
    "        return self.accuracy"
   ]
  },
  {
   "cell_type": "code",
   "execution_count": 6,
   "id": "4951f21e-a2d0-47a6-ad41-a55f0881fad5",
   "metadata": {},
   "outputs": [],
   "source": [
    "def gen_individual():\n",
    "    neural_network = NeuralNetwork()\n",
    "    first_layer = Layer(11, 32, np.tanh)\n",
    "    second_layer = Layer(32, 32, np.tanh)\n",
    "    third_layer = Layer(32, 32, np.tanh)\n",
    "#     fourth_layer = Layer(32, 32, np.tanh)\n",
    "#     last_layer = Layer(32, 32, np.tanh)\n",
    "#     last_layer = Layer(32, 32, np.tanh)\n",
    "    last_layer = Layer(32, 3, softmax)\n",
    "    neural_network.add(first_layer)\n",
    "    neural_network.add(second_layer)\n",
    "    neural_network.add(third_layer)\n",
    "#     neural_network.add(fourth_layer)\n",
    "    neural_network.add(last_layer)\n",
    "    return neural_network"
   ]
  },
  {
   "cell_type": "code",
   "execution_count": 7,
   "id": "a85c9d32",
   "metadata": {},
   "outputs": [],
   "source": [
    "def euclidean_distance(ind1, ind2):\n",
    "    total_distance = 0\n",
    "    for w1, w2, b1, b2 in zip(ind1.model_weights, ind2.model_weights, ind1.model_biases, ind2.model_biases):\n",
    "        total_distance += np.sum((w1 - w2) ** 2)\n",
    "        total_distance += np.sum((b1 - b2) ** 2)\n",
    "    return np.sqrt(total_distance)"
   ]
  },
  {
   "cell_type": "code",
   "execution_count": 8,
   "id": "c1731740-d23d-4637-a5cc-3bafcb31199f",
   "metadata": {},
   "outputs": [],
   "source": [
    "def fitness(individual):\n",
    "    individual.set_accuracy(x, y)\n",
    "    accuracy = individual.get_accuracy()\n",
    "    return accuracy"
   ]
  },
  {
   "cell_type": "code",
   "execution_count": 9,
   "id": "147143fc",
   "metadata": {},
   "outputs": [],
   "source": [
    "def shared_fitness(individual, population, sigma_share=5.0, alpha=1.0):\n",
    "    distances = [euclidean_distance(individual, other) for other in population if individual != other]\n",
    "    sharing_values = [1 - (dist / sigma_share) ** alpha if dist < sigma_share else 0 for dist in distances]\n",
    "    sharing_sum = np.sum(sharing_values)\n",
    "    raw_fitness = fitness(individual)\n",
    "    adjusted_fitness = raw_fitness / (1 + sharing_sum)\n",
    "    return adjusted_fitness\n"
   ]
  },
  {
   "cell_type": "code",
   "execution_count": 10,
   "id": "017d88ea-81dd-4237-aa1f-fe2426f23aa8",
   "metadata": {},
   "outputs": [],
   "source": [
    "def generate_population(population_size):\n",
    "    population = []\n",
    "    fitnesses = []\n",
    "    for i in range(population_size):\n",
    "        individual = gen_individual()\n",
    "        population.append(individual)\n",
    "        fitnesses.append(fitness(individual))\n",
    "    return population, fitnesses"
   ]
  },
  {
   "cell_type": "code",
   "execution_count": 11,
   "id": "021df671-a07a-4916-a995-53919230555b",
   "metadata": {},
   "outputs": [],
   "source": [
    "# population, fitnesses = generate_population(5)\n",
    "# population[1].model_weights"
   ]
  },
  {
   "cell_type": "code",
   "execution_count": 12,
   "id": "f910572c",
   "metadata": {},
   "outputs": [],
   "source": [
    "def new_child(p1, p2, p3, target,cr, f):\n",
    "    mutant=gen_individual()\n",
    "    trial=gen_individual()\n",
    "    for i in range(len(mutant.model_weights)):\n",
    "      differencew = f * (p1.model_weights[i] - p2.model_weights[i])\n",
    "      differenceb = f * (p1.model_biases[i] - p2.model_biases[i])\n",
    "      mutant.model_weights[i]= p3.model_weights[i] + differencew\n",
    "      mutant.model_biases[i]= p3.model_biases[i]  + differenceb\n",
    "\n",
    "      for j in range(len(trial.model_weights[i])):\n",
    "        trial.model_weights[i][j]= mutant.model_weights[i][j] if random.random() <= cr else target.model_weights[i][j]\n",
    "      for j in range(len(trial.model_biases[i])):\n",
    "        trial.model_biases[i][j]= mutant.model_biases[i][j] if random.random() <= cr else target.model_biases[i][j]\n",
    "    return trial\n",
    "    "
   ]
  },
  {
   "cell_type": "code",
   "execution_count": 13,
   "id": "5fa3b734",
   "metadata": {},
   "outputs": [],
   "source": [
    "def evaluate_target(target, population, f, cr, sigma_share, alpha):\n",
    "    a, b, c = random.sample(list(population), 3)\n",
    "    trial = new_child(a, b, c, target, cr, f)\n",
    "#     trial_acc = fitness(trial)\n",
    "#     target_acc = fitness(target)\n",
    "    trial_acc = shared_fitness(trial, population, sigma_share, alpha)\n",
    "    target_acc = shared_fitness(target, population, sigma_share, alpha)\n",
    "    if trial_acc > target_acc:\n",
    "        result = [trial, trial_acc]\n",
    "    else:\n",
    "        result = [target, target_acc]\n",
    "    return result"
   ]
  },
  {
   "cell_type": "code",
   "execution_count": 14,
   "id": "9075e7f8-8cc9-4860-b380-1fbbf3150c87",
   "metadata": {},
   "outputs": [],
   "source": [
    "\n",
    "def differential_evolution(population_size, f=1.5, cr=0.9, max_iters=50, sigma_share=70.0, alpha=1.0):\n",
    "    population, fitnesses = generate_population(population_size)\n",
    "    best = population[np.argmax(fitnesses)]\n",
    "    best_acc = max(fitnesses)\n",
    "    print(best_acc)\n",
    "    num_iters = 0\n",
    "    while num_iters < max_iters:\n",
    "        pool = Pool(12)\n",
    "\n",
    "        results = pool.starmap(evaluate_target, [(target, population, f, cr, sigma_share, alpha) for target in population])\n",
    "        \n",
    "        pool.close()\n",
    "        \n",
    "        results = np.array(results)\n",
    "        \n",
    "        new_population = results[:,0]\n",
    "        new_fitnesses = results[:,1]\n",
    "\n",
    "        best_index = np.argmax(new_fitnesses)\n",
    "        best_acc = new_fitnesses[best_index]\n",
    "        best = new_population[best_index]\n",
    "        population = new_population\n",
    "        num_iters += 1\n",
    "        avr=np.mean(new_fitnesses)\n",
    "        print(f\"Iteration: {num_iters} -> Best Accuracy: {best_acc:.2f} % -> Average:{avr:.2f} \")\n",
    "\n",
    "    return population, best, best_acc\n"
   ]
  },
  {
   "cell_type": "code",
   "execution_count": null,
   "id": "98089c69",
   "metadata": {
    "scrolled": false
   },
   "outputs": [
    {
     "name": "stderr",
     "output_type": "stream",
     "text": [
      "/tmp/ipykernel_158816/2082453801.py:55: DeprecationWarning: Calling np.sum(generator) is deprecated, and in the future will give a different result. Use np.sum(np.fromiter(generator)) or the python sum builtin instead.\n",
      "  correct_predictions = np.sum(1 for pred, true in zip(predicted_labels, true_labels) if pred == true)\n"
     ]
    },
    {
     "name": "stdout",
     "output_type": "stream",
     "text": [
      "52.841475573280164\n",
      "Iteration: 1 -> Best Accuracy: 52.84 % -> Average:31.07 \n",
      "Iteration: 2 -> Best Accuracy: 53.29 % -> Average:36.13 \n",
      "Iteration: 3 -> Best Accuracy: 53.29 % -> Average:39.22 \n",
      "Iteration: 4 -> Best Accuracy: 53.29 % -> Average:42.01 \n",
      "Iteration: 5 -> Best Accuracy: 53.29 % -> Average:43.82 \n",
      "Iteration: 6 -> Best Accuracy: 53.29 % -> Average:45.40 \n",
      "Iteration: 7 -> Best Accuracy: 53.29 % -> Average:46.24 \n",
      "Iteration: 8 -> Best Accuracy: 53.69 % -> Average:46.97 \n",
      "Iteration: 9 -> Best Accuracy: 53.69 % -> Average:47.96 \n",
      "Iteration: 10 -> Best Accuracy: 53.69 % -> Average:49.16 \n",
      "Iteration: 11 -> Best Accuracy: 53.69 % -> Average:49.71 \n",
      "Iteration: 12 -> Best Accuracy: 53.69 % -> Average:49.87 \n",
      "Iteration: 13 -> Best Accuracy: 53.69 % -> Average:50.47 \n",
      "Iteration: 14 -> Best Accuracy: 53.89 % -> Average:50.71 \n",
      "Iteration: 15 -> Best Accuracy: 54.19 % -> Average:51.13 \n",
      "Iteration: 16 -> Best Accuracy: 54.19 % -> Average:51.25 \n",
      "Iteration: 17 -> Best Accuracy: 54.19 % -> Average:51.53 \n",
      "Iteration: 18 -> Best Accuracy: 54.19 % -> Average:51.72 \n",
      "Iteration: 19 -> Best Accuracy: 54.19 % -> Average:51.89 \n",
      "Iteration: 20 -> Best Accuracy: 54.19 % -> Average:52.13 \n",
      "Iteration: 21 -> Best Accuracy: 54.19 % -> Average:52.18 \n",
      "Iteration: 22 -> Best Accuracy: 54.19 % -> Average:52.33 \n",
      "Iteration: 23 -> Best Accuracy: 54.39 % -> Average:52.46 \n",
      "Iteration: 24 -> Best Accuracy: 57.58 % -> Average:52.66 \n",
      "Iteration: 25 -> Best Accuracy: 57.58 % -> Average:52.74 \n",
      "Iteration: 26 -> Best Accuracy: 57.58 % -> Average:52.79 \n",
      "Iteration: 27 -> Best Accuracy: 59.07 % -> Average:52.92 \n",
      "Iteration: 28 -> Best Accuracy: 59.07 % -> Average:52.99 \n",
      "Iteration: 29 -> Best Accuracy: 59.07 % -> Average:53.11 \n",
      "Iteration: 30 -> Best Accuracy: 59.07 % -> Average:53.22 \n",
      "Iteration: 31 -> Best Accuracy: 59.07 % -> Average:53.26 \n",
      "Iteration: 32 -> Best Accuracy: 59.07 % -> Average:53.32 \n",
      "Iteration: 33 -> Best Accuracy: 59.07 % -> Average:53.36 \n",
      "Iteration: 34 -> Best Accuracy: 59.07 % -> Average:53.45 \n",
      "Iteration: 35 -> Best Accuracy: 59.07 % -> Average:53.46 \n",
      "Iteration: 36 -> Best Accuracy: 59.07 % -> Average:53.51 \n",
      "Iteration: 37 -> Best Accuracy: 59.07 % -> Average:53.60 \n",
      "Iteration: 38 -> Best Accuracy: 59.07 % -> Average:53.67 \n",
      "Iteration: 39 -> Best Accuracy: 59.07 % -> Average:53.78 \n",
      "Iteration: 40 -> Best Accuracy: 59.07 % -> Average:53.83 \n",
      "Iteration: 41 -> Best Accuracy: 59.07 % -> Average:53.93 \n",
      "Iteration: 42 -> Best Accuracy: 59.07 % -> Average:54.06 \n",
      "Iteration: 43 -> Best Accuracy: 59.07 % -> Average:54.35 \n",
      "Iteration: 44 -> Best Accuracy: 59.07 % -> Average:54.49 \n",
      "Iteration: 45 -> Best Accuracy: 59.07 % -> Average:54.84 \n",
      "Iteration: 46 -> Best Accuracy: 59.07 % -> Average:55.05 \n",
      "Iteration: 47 -> Best Accuracy: 59.07 % -> Average:55.32 \n"
     ]
    }
   ],
   "source": [
    "import time\n",
    "start_time = time.time()\n",
    "population,best_solution,best_acc = differential_evolution(100)\n",
    "end_time = time.time()\n",
    "print(end_time - start_time)"
   ]
  },
  {
   "cell_type": "code",
   "execution_count": null,
   "id": "00df595b",
   "metadata": {},
   "outputs": [],
   "source": []
  }
 ],
 "metadata": {
  "kernelspec": {
   "display_name": "Python 3 (ipykernel)",
   "language": "python",
   "name": "python3"
  },
  "language_info": {
   "codemirror_mode": {
    "name": "ipython",
    "version": 3
   },
   "file_extension": ".py",
   "mimetype": "text/x-python",
   "name": "python",
   "nbconvert_exporter": "python",
   "pygments_lexer": "ipython3",
   "version": "3.11.8"
  }
 },
 "nbformat": 4,
 "nbformat_minor": 5
}
